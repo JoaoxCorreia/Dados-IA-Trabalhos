{
  "cells": [
    {
      "cell_type": "markdown",
      "metadata": {
        "id": "view-in-github",
        "colab_type": "text"
      },
      "source": [
        "<a href=\"https://colab.research.google.com/github/JoaoxCorreia/Dados-IA-Trabalhos/blob/main/techchallenge_fase2.ipynb\" target=\"_parent\"><img src=\"https://colab.research.google.com/assets/colab-badge.svg\" alt=\"Open In Colab\"/></a>"
      ]
    },
    {
      "cell_type": "markdown",
      "metadata": {
        "id": "S4tJlXyIDGyY"
      },
      "source": [
        "# POSTECH - TECH CHALLENGE - FASE 2\n",
        "## Apresentação\n",
        "A gestão eficiente da carga de trabalho dos funcionários é essencial para o sucesso empresarial, mas enfrenta desafios como sobrecarga, distribuição desigual de tarefas e falta de visibilidade. A resolução desses problemas pode trazer benefícios significativos, como aumento da produtividade, melhoria do bem-estar dos funcionários e otimização de recursos, proporcionando uma vantagem competitiva no mercado.\n",
        "## Desafio\n",
        "Otimização de balanceamento de carga de trabalho entre trabalhadores.\n",
        "## Problema\n",
        "Consiste em distribuir um conjunto de tarefas, cada uma com uma duração específica, entre um número fixo de trabalhadores de tal forma que o tempo total de execução (ou carga de trabalho) do trabalhador mais ocupado seja minimizado.\n",
        "### Resolução do problema\n",
        "O problema pode ser descrito da seguinte forma:\n",
        "- **Tarefas**: Uma lista de tarefas, onde cada tarefa tem uma duração específica.\n",
        "- **Trabalhadores**: Um número fixo de trabalhadores.\n",
        "- **Objetivo**: Distribuir as tarefas entre os trabalhadores de modo que o tempo total de execução do trabalhador mais ocupado seja o menor possível."
      ]
    },
    {
      "cell_type": "markdown",
      "metadata": {
        "id": "L-CW6Y9iDGya"
      },
      "source": [
        "# Solução\n",
        "O algoritmo genético utilizado para resolver este problema é implementado usando a biblioteca DEAP (Distributed Evolutionary Algorithms in Python)."
      ]
    },
    {
      "cell_type": "code",
      "execution_count": null,
      "metadata": {
        "id": "fBbNg-jsDGya"
      },
      "outputs": [],
      "source": [
        "import random\n",
        "import matplotlib.pyplot as plt\n",
        "import pandas as pd\n",
        "from deap import base, creator, tools, algorithms"
      ]
    },
    {
      "cell_type": "markdown",
      "metadata": {
        "id": "pMscoKxzDGyb"
      },
      "source": [
        "Definição das tarefas:"
      ]
    },
    {
      "cell_type": "code",
      "execution_count": null,
      "metadata": {
        "id": "GUQbt57uDGyc",
        "outputId": "509657a8-6f37-4f81-f201-faa44ff23a71"
      },
      "outputs": [
        {
          "name": "stdout",
          "output_type": "stream",
          "text": [
            "Quantidade de tarefas: 640\n"
          ]
        }
      ],
      "source": [
        "# Cada elemento da lista de tarefas representa uma tarefa a ser executada em horas\n",
        "tasks = [2, 4, 6, 8, 10, 12, 14, 16, 18, 20]\n",
        "tasks.extend(tasks)\n",
        "tasks.extend(tasks)\n",
        "tasks.extend(tasks)\n",
        "tasks.extend(tasks)\n",
        "tasks.extend(tasks)\n",
        "tasks.extend(tasks)\n",
        "\n",
        "# Utillizado o extend para duplicar a lista de tarefas a cada chamada da função\n",
        "print(f'Quantidade de tarefas: {len(tasks)}')"
      ]
    },
    {
      "cell_type": "markdown",
      "metadata": {
        "id": "i2JxZ-JZDGyc"
      },
      "source": [
        "Definição do número de traballhadores:"
      ]
    },
    {
      "cell_type": "code",
      "execution_count": null,
      "metadata": {
        "id": "MZJcVmicDGyc"
      },
      "outputs": [],
      "source": [
        "num_workers = 3"
      ]
    },
    {
      "cell_type": "markdown",
      "metadata": {
        "id": "Vk2GZ0mxDGyd"
      },
      "source": [
        "Função de criação de indivíduos:"
      ]
    },
    {
      "cell_type": "code",
      "execution_count": null,
      "metadata": {
        "id": "8uCrdp_CDGyd"
      },
      "outputs": [],
      "source": [
        "def create_individual():\n",
        "    return [random.randint(0, num_workers - 1) for _ in range(len(tasks))]"
      ]
    },
    {
      "cell_type": "markdown",
      "metadata": {
        "id": "u2U0sh6cDGyd"
      },
      "source": [
        "Função de avaliação:"
      ]
    },
    {
      "cell_type": "code",
      "execution_count": null,
      "metadata": {
        "id": "oGFE3WEaDGyd"
      },
      "outputs": [],
      "source": [
        "def evaluate(individual):\n",
        "    worker_times = [0] * num_workers\n",
        "    for task, worker in zip(tasks, individual):\n",
        "        worker_times[worker] += task\n",
        "    return max(worker_times),"
      ]
    },
    {
      "cell_type": "markdown",
      "metadata": {
        "id": "gJoibdgXDGye"
      },
      "source": [
        "Função para registrar a evolução do melhor fitness"
      ]
    },
    {
      "cell_type": "code",
      "execution_count": null,
      "metadata": {
        "id": "9PdusIMYDGye"
      },
      "outputs": [],
      "source": [
        "def record_best_fitness(population):\n",
        "    best_individual = tools.selBest(population, k=1)[0]\n",
        "    best_fitness = evaluate(best_individual)[0]\n",
        "    best_fitness_values.append(best_fitness)"
      ]
    },
    {
      "cell_type": "markdown",
      "metadata": {
        "id": "Ap_eneA8DGye"
      },
      "source": [
        "Criando a classe Fitness e o indivíduo"
      ]
    },
    {
      "cell_type": "code",
      "execution_count": null,
      "metadata": {
        "id": "PtLz5ZHkDGye"
      },
      "outputs": [],
      "source": [
        "creator.create(\"FitnessMin\", base.Fitness, weights=(-1.0,)) # Utilizado o -1.0 para minimizar o tempo total de execução\n",
        "creator.create(\"Individual\", list, fitness=creator.FitnessMin) # Utilizado o FitnessMin para minimizar o tempo total de execução"
      ]
    },
    {
      "cell_type": "markdown",
      "metadata": {
        "id": "lsVfSnw4DGye"
      },
      "source": [
        "Configurando a toolbox do DEAP"
      ]
    },
    {
      "cell_type": "code",
      "execution_count": null,
      "metadata": {
        "id": "kq2dHgynDGye"
      },
      "outputs": [],
      "source": [
        "toolbox = base.Toolbox() # Utilizado para armazenar funções que serão utilizadas no algoritmo genético\n",
        "toolbox.register(\"individual\", tools.initIterate, creator.Individual, create_individual) # Utilizado para criar um indivíduo da população\n",
        "toolbox.register(\"population\", tools.initRepeat, list, toolbox.individual) # Utilizado para criar uma população de indivíduos\n",
        "toolbox.register(\"mate\", tools.cxTwoPoint) # Utilizado para realizar o crossover onde o cxTwoPoint é o crossover de dois pontos\n",
        "toolbox.register(\"mutate\", tools.mutUniformInt, low=0, up=num_workers - 1, indpb=0.2) # Utilizado para realizar a mutação onde o indpb é a probabilidade de mutação\n",
        "toolbox.register(\"select\", tools.selTournament, tournsize=3) # Utilizado para realizar a seleção onde o tournsize é o número de indivíduos no torneio\n",
        "toolbox.register(\"evaluate\", evaluate)"
      ]
    },
    {
      "cell_type": "markdown",
      "metadata": {
        "id": "iDtKInqDDGye"
      },
      "source": [
        "Parâmetros do algoritmo genético"
      ]
    },
    {
      "cell_type": "code",
      "execution_count": null,
      "metadata": {
        "id": "x5tz3qQLDGye"
      },
      "outputs": [],
      "source": [
        "population_size = 10 # Tamanho da população\n",
        "num_generations = 30 # Número de gerações\n",
        "crossover_prob = 0.7 # Probabilidade de crossover\n",
        "mutation_prob = 0.2 # Probabilidade de mutação"
      ]
    },
    {
      "cell_type": "markdown",
      "metadata": {
        "id": "X7GH70tvDGye"
      },
      "source": [
        "Criação da população inicial"
      ]
    },
    {
      "cell_type": "code",
      "execution_count": null,
      "metadata": {
        "id": "Ud50FrmMDGye"
      },
      "outputs": [],
      "source": [
        "population = toolbox.population(n=population_size)"
      ]
    },
    {
      "cell_type": "markdown",
      "metadata": {
        "id": "IJNdPqsLDGyf"
      },
      "source": [
        "Execução do algoritmo genético"
      ]
    },
    {
      "cell_type": "code",
      "execution_count": null,
      "metadata": {
        "id": "93nY9nknDGyf"
      },
      "outputs": [],
      "source": [
        "best_fitness_values = [] # Utilizado para armazenar o melhor tempo total de execução de cada geração\n",
        "\n",
        "# Executando o algoritmo genético\n",
        "for gen in range(num_generations): # Utilizado para percorrer as gerações\n",
        "    population = algorithms.varAnd(population, toolbox, cxpb=crossover_prob, mutpb=mutation_prob) # Utilizado para realizar o crossover e a mutação na população\n",
        "    fits = toolbox.map(toolbox.evaluate, population) # Utilizado para calcular o fitness de cada indivíduo da população\n",
        "    for fit, ind in zip(fits, population): # Utilizado para atribuir o fitness de cada indivíduo da população\n",
        "        ind.fitness.values = fit\n",
        "    population = toolbox.select(population, k=len(population)) # Utilizado para selecionar os indivíduos da população que irão para a próxima geração\n",
        "    record_best_fitness(population) # Utilizado para armazenar o melhor tempo total de execução de cada geração\n",
        "\n",
        "# Encontrando o melhor indivíduo\n",
        "best_individual = tools.selBest(population, k=1)[0] # Utilizado para encontrar o melhor indivíduo da população\n",
        "best_fitness = evaluate(best_individual)[0] # Utilizado para calcular o fitness do melhor indivíduo"
      ]
    },
    {
      "cell_type": "markdown",
      "metadata": {
        "id": "Vw7UiKvMDGyf"
      },
      "source": [
        "Criando gráficos para visualização dos resultados"
      ]
    },
    {
      "cell_type": "code",
      "execution_count": null,
      "metadata": {
        "id": "9AMJVRjWDGyf",
        "outputId": "bdd570dc-5d14-40e3-857b-cfb3af5c321a"
      },
      "outputs": [
        {
          "data": {
            "image/png": "[encoded data removed]",
            "text/plain": [
              "<Figure size 1000x600 with 1 Axes>"
            ]
          },
          "metadata": {},
          "output_type": "display_data"
        },
        {
          "name": "stdout",
          "output_type": "stream",
          "text": [
            "Melhor indivíduo: [2, 1, 1, 2, 0, 1, 1, 1, 0, 1, 2, 1, 1, 1, 0, 1, 1, 0, 1, 2, 1, 2, 2, 0, 0, 2, 1, 0, 1, 2, 1, 2, 0, 0, 1, 1, 2, 2, 1, 2, 0, 2, 1, 0, 1, 0, 2, 1, 2, 2, 0, 0, 2, 1, 2, 1, 2, 0, 0, 0, 1, 0, 1, 0, 0, 0, 1, 1, 1, 2, 0, 1, 2, 2, 2, 1, 2, 1, 1, 1, 2, 0, 0, 1, 2, 1, 2, 0, 2, 2, 2, 0, 2, 0, 1, 1, 1, 1, 0, 1, 1, 1, 0, 0, 2, 0, 1, 1, 0, 0, 1, 1, 0, 0, 2, 0, 1, 0, 1, 2, 2, 2, 0, 0, 1, 0, 1, 1, 2, 1, 2, 0, 0, 0, 2, 1, 2, 0, 0, 0, 0, 1, 2, 1, 1, 0, 1, 1, 1, 2, 0, 1, 1, 0, 1, 2, 1, 1, 2, 0, 1, 2, 2, 2, 1, 0, 0, 1, 2, 0, 1, 1, 2, 1, 2, 2, 2, 1, 0, 0, 0, 2, 1, 2, 2, 0, 2, 2, 1, 2, 1, 1, 0, 0, 2, 0, 1, 0, 0, 0, 1, 0, 0, 2, 1, 0, 0, 0, 2, 0, 0, 1, 2, 1, 2, 1, 1, 2, 0, 1, 1, 0, 2, 2, 2, 0, 1, 0, 0, 2, 0, 0, 1, 2, 1, 0, 2, 1, 1, 0, 0, 2, 2, 0, 0, 0, 2, 0, 0, 2, 2, 0, 1, 1, 2, 0, 0, 1, 0, 2, 1, 2, 2, 1, 2, 1, 2, 1, 2, 1, 0, 2, 2, 1, 0, 2, 0, 0, 1, 1, 1, 0, 2, 1, 1, 2, 0, 1, 0, 0, 1, 0, 2, 0, 0, 2, 0, 2, 1, 2, 2, 2, 2, 1, 2, 2, 2, 2, 2, 0, 1, 0, 0, 0, 1, 1, 0, 0, 2, 0, 2, 0, 2, 2, 2, 0, 0, 1, 0, 1, 2, 1, 1, 0, 1, 1, 1, 2, 0, 2, 0, 2, 1, 0, 2, 2, 1, 1, 2, 0, 1, 0, 0, 2, 0, 2, 2, 1, 0, 2, 2, 2, 0, 2, 1, 2, 2, 1, 0, 2, 1, 2, 1, 2, 2, 1, 2, 1, 1, 2, 2, 0, 2, 1, 1, 2, 1, 1, 0, 2, 0, 2, 2, 0, 0, 2, 0, 1, 2, 0, 1, 0, 2, 2, 1, 2, 1, 0, 2, 1, 2, 1, 2, 1, 1, 2, 2, 1, 1, 2, 2, 2, 2, 0, 2, 2, 2, 0, 2, 2, 2, 1, 0, 2, 2, 2, 0, 0, 1, 1, 0, 1, 2, 1, 0, 1, 0, 2, 2, 1, 2, 0, 2, 0, 2, 2, 0, 2, 1, 0, 0, 2, 0, 1, 1, 2, 1, 0, 1, 1, 2, 2, 1, 1, 1, 2, 1, 2, 0, 0, 2, 2, 0, 2, 2, 2, 1, 2, 1, 1, 1, 0, 0, 1, 1, 0, 1, 0, 2, 2, 2, 1, 1, 2, 2, 0, 2, 2, 0, 1, 1, 2, 0, 0, 1, 2, 0, 1, 0, 2, 1, 0, 0, 0, 1, 2, 2, 0, 0, 0, 1, 1, 2, 1, 2, 2, 0, 2, 0, 0, 1, 1, 0, 2, 0, 1, 1, 1, 2, 2, 2, 0, 2, 0, 0, 0, 0, 0, 0, 1, 1, 2, 1, 0, 1, 0, 2, 1, 2, 1, 0, 1, 0, 0, 1, 1, 1, 0, 0, 0, 1, 0, 2, 1, 2, 0, 0, 2, 0, 0, 1, 1, 2, 1, 1, 0, 2, 1, 1, 0, 1, 1, 0, 0, 1, 2, 0, 2, 2, 1, 0, 2, 1, 1, 2, 1, 0, 2, 2, 1, 1, 0, 1, 1, 2, 0, 0, 2, 0, 1, 0, 1, 2, 2, 0, 0, 2, 1, 2, 0]\n",
            "Melhor tempo total de execução: 2360\n"
          ]
        }
      ],
      "source": [
        "# Criando um DataFrame para armazenar os dados\n",
        "df = pd.DataFrame({\n",
        "    'Geração': range(1, num_generations + 1),\n",
        "    'Melhor Fitness': best_fitness_values\n",
        "})\n",
        "\n",
        "# Plotando a evolução do melhor fitness\n",
        "plt.figure(figsize=(10, 6))\n",
        "plt.plot(df['Geração'], df['Melhor Fitness'], marker='o', linestyle='-', color='b')\n",
        "plt.title('Evolução do Melhor Fitness ao Longo das Gerações')\n",
        "plt.xlabel('Geração')\n",
        "plt.ylabel('Melhor Fitness')\n",
        "plt.grid(True)\n",
        "plt.show()\n",
        "\n",
        "# Exibindo os resultados\n",
        "print(\"Melhor indivíduo:\", best_individual)\n",
        "print(\"Melhor tempo total de execução:\", best_fitness)"
      ]
    },
    {
      "cell_type": "markdown",
      "metadata": {
        "id": "vc4XqEkMDGyf"
      },
      "source": [
        "### Resultados\n",
        "- O melhor indivíduo encontrado representa a distribuição de tarefas entre os trabalhadores que minimiza o tempo total de execução do trabalhador mais ocupado.\n",
        "- O melhor tempo total de execução é exibido, e a evolução do melhor fitness ao longo das gerações é plotada."
      ]
    }
  ],
  "metadata": {
    "kernelspec": {
      "display_name": ".venv",
      "language": "python",
      "name": "python3"
    },
    "language_info": {
      "codemirror_mode": {
        "name": "ipython",
        "version": 3
      },
      "file_extension": ".py",
      "mimetype": "text/x-python",
      "name": "python",
      "nbconvert_exporter": "python",
      "pygments_lexer": "ipython3",
      "version": "3.10.11"
    },
    "colab": {
      "provenance": [],
      "include_colab_link": true
    }
  },
  "nbformat": 4,
  "nbformat_minor": 0
}